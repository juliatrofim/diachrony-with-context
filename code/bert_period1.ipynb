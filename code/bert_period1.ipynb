{
 "cells": [
  {
   "cell_type": "code",
   "execution_count": 86,
   "metadata": {},
   "outputs": [],
   "source": [
    "import numpy as np\n",
    "import pandas as pd"
   ]
  },
  {
   "cell_type": "code",
   "execution_count": 87,
   "metadata": {},
   "outputs": [],
   "source": [
    "presov = np.load('bert/presov.npz')\n",
    "sov = np.load('bert/sov.npz')\n",
    "postsov = np.load('bert/postsov.npz')"
   ]
  },
  {
   "cell_type": "code",
   "execution_count": 88,
   "metadata": {},
   "outputs": [
    {
     "name": "stdout",
     "output_type": "stream",
     "text": [
      "dataset_0.csv                  dataset_1.csv\r\n",
      "dataset_0_annotation.tsv       dataset_1_annotation.tsv\r\n",
      "dataset_0_testset.tsv          dataset_1_testset.tsv\r\n",
      "dataset_0_testset_filtered.tsv dataset_1_testset_filtered.tsv\r\n"
     ]
    }
   ],
   "source": [
    "! ls context-diachrony/datasets"
   ]
  },
  {
   "cell_type": "code",
   "execution_count": 89,
   "metadata": {},
   "outputs": [],
   "source": [
    "dataset0 = pd.read_csv('context-diachrony/datasets/dataset_0_testset_filtered.tsv', sep='\\t')"
   ]
  },
  {
   "cell_type": "code",
   "execution_count": 90,
   "metadata": {},
   "outputs": [
    {
     "data": {
      "text/html": [
       "<div>\n",
       "<style scoped>\n",
       "    .dataframe tbody tr th:only-of-type {\n",
       "        vertical-align: middle;\n",
       "    }\n",
       "\n",
       "    .dataframe tbody tr th {\n",
       "        vertical-align: top;\n",
       "    }\n",
       "\n",
       "    .dataframe thead th {\n",
       "        text-align: right;\n",
       "    }\n",
       "</style>\n",
       "<table border=\"1\" class=\"dataframe\">\n",
       "  <thead>\n",
       "    <tr style=\"text-align: right;\">\n",
       "      <th></th>\n",
       "      <th>word</th>\n",
       "      <th>COMPARE</th>\n",
       "      <th>EARLIER</th>\n",
       "      <th>LATER</th>\n",
       "      <th>delta_later</th>\n",
       "      <th>frequency_presov/sov</th>\n",
       "    </tr>\n",
       "  </thead>\n",
       "  <tbody>\n",
       "    <tr>\n",
       "      <th>0</th>\n",
       "      <td>агентство</td>\n",
       "      <td>3.15</td>\n",
       "      <td>3.62</td>\n",
       "      <td>3.55</td>\n",
       "      <td>-0.07</td>\n",
       "      <td>842/333</td>\n",
       "    </tr>\n",
       "    <tr>\n",
       "      <th>1</th>\n",
       "      <td>богадельня</td>\n",
       "      <td>3.65</td>\n",
       "      <td>3.30</td>\n",
       "      <td>3.29</td>\n",
       "      <td>-0.01</td>\n",
       "      <td>442/190</td>\n",
       "    </tr>\n",
       "    <tr>\n",
       "      <th>2</th>\n",
       "      <td>больница</td>\n",
       "      <td>3.86</td>\n",
       "      <td>3.71</td>\n",
       "      <td>3.92</td>\n",
       "      <td>0.21</td>\n",
       "      <td>3337/6597</td>\n",
       "    </tr>\n",
       "    <tr>\n",
       "      <th>3</th>\n",
       "      <td>весна</td>\n",
       "      <td>3.58</td>\n",
       "      <td>3.55</td>\n",
       "      <td>3.60</td>\n",
       "      <td>0.05</td>\n",
       "      <td>5729/10250</td>\n",
       "    </tr>\n",
       "    <tr>\n",
       "      <th>4</th>\n",
       "      <td>вино</td>\n",
       "      <td>3.37</td>\n",
       "      <td>3.68</td>\n",
       "      <td>3.77</td>\n",
       "      <td>0.09</td>\n",
       "      <td>6499/6919</td>\n",
       "    </tr>\n",
       "  </tbody>\n",
       "</table>\n",
       "</div>"
      ],
      "text/plain": [
       "         word  COMPARE  EARLIER  LATER  delta_later frequency_presov/sov\n",
       "0   агентство     3.15     3.62   3.55        -0.07              842/333\n",
       "1  богадельня     3.65     3.30   3.29        -0.01              442/190\n",
       "2    больница     3.86     3.71   3.92         0.21            3337/6597\n",
       "3       весна     3.58     3.55   3.60         0.05           5729/10250\n",
       "4        вино     3.37     3.68   3.77         0.09            6499/6919"
      ]
     },
     "execution_count": 90,
     "metadata": {},
     "output_type": "execute_result"
    }
   ],
   "source": [
    "dataset0.head()"
   ]
  },
  {
   "cell_type": "code",
   "execution_count": 92,
   "metadata": {},
   "outputs": [],
   "source": [
    "np.random.seed(42)"
   ]
  },
  {
   "cell_type": "code",
   "execution_count": 93,
   "metadata": {},
   "outputs": [],
   "source": [
    "from sklearn.cluster import KMeans\n",
    "from sklearn.cluster import AffinityPropagation\n",
    "from sklearn.linear_model import LinearRegression\n",
    "from scipy.spatial.distance import jensenshannon as jsd\n",
    "from scipy.spatial.distance import cosine\n",
    "from scipy.stats import spearmanr\n",
    "from sklearn.model_selection import KFold\n",
    "from catboost import CatBoostRegressor\n",
    "\n",
    "K = 5"
   ]
  },
  {
   "cell_type": "markdown",
   "metadata": {},
   "source": [
    "## KMeans"
   ]
  },
  {
   "cell_type": "code",
   "execution_count": 94,
   "metadata": {},
   "outputs": [],
   "source": [
    "def calc_kmeans(word):\n",
    "    presov = np.load('bert/presov.npz')\n",
    "    sov = np.load('bert/sov.npz')\n",
    "    emb1 = presov.get(word)\n",
    "    emb2 = sov.get(word)\n",
    "    if emb1.shape[0] > 10000:\n",
    "        rand_idxs = np.random.choice(emb1.shape[0], 10000, replace=False)\n",
    "        emb1 = emb1[rand_idxs]\n",
    "    if emb2.shape[0] > 10000:\n",
    "        rand_idxs = np.random.choice(emb2.shape[0], 10000, replace=False)\n",
    "        emb2 = emb2[rand_idxs]\n",
    "\n",
    "    embs = []\n",
    "    embs.extend(emb1)\n",
    "    embs.extend(emb2)\n",
    "\n",
    "    kmeans = KMeans(n_clusters=K, random_state=42).fit(embs)\n",
    "    dist1 = [np.count_nonzero(kmeans.labels_[:len(emb1)] == i) / len(emb1) for i in range(K)]\n",
    "    dist2 = [np.count_nonzero(kmeans.labels_[len(emb1):] == i) / len(emb2) for i in range(K)]\n",
    "\n",
    "    return {word : [dist1, dist2]}\n"
   ]
  },
  {
   "cell_type": "code",
   "execution_count": 95,
   "metadata": {},
   "outputs": [
    {
     "name": "stdout",
     "output_type": "stream",
     "text": [
      "86.994136095047\n"
     ]
    }
   ],
   "source": [
    "from joblib import Parallel, delayed\n",
    "\n",
    "start = time.time()\n",
    "results = Parallel(n_jobs=-1)(\n",
    "    delayed(calc_kmeans)(word) for word in list(dataset0['word'])\n",
    ")\n",
    "print(time.time() - start)"
   ]
  },
  {
   "cell_type": "code",
   "execution_count": 96,
   "metadata": {},
   "outputs": [
    {
     "name": "stdout",
     "output_type": "stream",
     "text": [
      "SpearmanrResult(correlation=-0.4428823464266702, pvalue=0.0016200021728544215)\n",
      "SpearmanrResult(correlation=0.27215698052343307, pvalue=0.06129636307696684)\n"
     ]
    }
   ],
   "source": [
    "kmeans_jsd = []\n",
    "for item in results:\n",
    "    for k, v in item.items():\n",
    "        kmeans_jsd.append(jsd(v[0], v[1]))\n",
    "        \n",
    "print(spearmanr(kmeans_jsd, dataset0['COMPARE']))\n",
    "print(spearmanr(kmeans_jsd, [np.abs(elem) for elem in dataset0['delta_later']]))"
   ]
  },
  {
   "cell_type": "code",
   "execution_count": 97,
   "metadata": {},
   "outputs": [
    {
     "name": "stdout",
     "output_type": "stream",
     "text": [
      "SpearmanrResult(correlation=-0.357986159417072, pvalue=0.01248155948250658)\n",
      "SpearmanrResult(correlation=0.2418992084372949, pvalue=0.09763019213516179)\n"
     ]
    }
   ],
   "source": [
    "kmeans_max = []\n",
    "for item in results:\n",
    "    for k, v in item.items():\n",
    "        kmeans_max.append(np.max(np.square(v[0]) - np.square(v[1])))\n",
    "        \n",
    "print(spearmanr(kmeans_max, dataset0['COMPARE']))\n",
    "print(spearmanr(kmeans_max, [np.abs(elem) for elem in dataset0['delta_later']]))"
   ]
  },
  {
   "cell_type": "markdown",
   "metadata": {},
   "source": [
    "## AffinityPropagation "
   ]
  },
  {
   "cell_type": "code",
   "execution_count": 109,
   "metadata": {},
   "outputs": [],
   "source": [
    "affinity_jsd = {}\n",
    "with open('aff_jsd1.txt') as f: # sort by word in file\n",
    "    for line in f.readlines():\n",
    "        affinity_jsd[line.split('=')[0]] = line[:-1].split('=')[1]\n",
    "\n",
    "affinity_jsd_list = []\n",
    "for idx, row in dataset0.iterrows():\n",
    "    affinity_jsd_list.append(affinity_jsd[row['word']])"
   ]
  },
  {
   "cell_type": "code",
   "execution_count": 110,
   "metadata": {},
   "outputs": [
    {
     "name": "stdout",
     "output_type": "stream",
     "text": [
      "SpearmanrResult(correlation=-0.29513862715535094, pvalue=0.04170091571689449)\n",
      "SpearmanrResult(correlation=0.15977426817013188, pvalue=0.27802939471531013)\n"
     ]
    }
   ],
   "source": [
    "print(spearmanr(affinity_jsd_list, dataset0['COMPARE']))\n",
    "print(spearmanr(affinity_jsd_list, [np.abs(elem) for elem in dataset0['delta_later']]))"
   ]
  },
  {
   "cell_type": "markdown",
   "metadata": {},
   "source": [
    "## Cosine"
   ]
  },
  {
   "cell_type": "code",
   "execution_count": 101,
   "metadata": {},
   "outputs": [],
   "source": [
    "def calc_cosine(words, period1, period2):\n",
    "    X = []\n",
    "    for idx, word in enumerate(words): \n",
    "        emb1 = period1.get(word)\n",
    "        emb2 = period2.get(word)\n",
    "        X.append(cosine(np.mean(emb1, axis=0), np.mean(emb2, axis=0)))\n",
    "    return X"
   ]
  },
  {
   "cell_type": "code",
   "execution_count": 102,
   "metadata": {},
   "outputs": [
    {
     "name": "stdout",
     "output_type": "stream",
     "text": [
      "SpearmanrResult(correlation=-0.4921156211182979, pvalue=0.00038135437526143166)\n",
      "SpearmanrResult(correlation=0.3456013393393376, pvalue=0.01613124697875543)\n"
     ]
    }
   ],
   "source": [
    "x_cosine = calc_cosine(dataset0['word'], presov, sov)\n",
    "\n",
    "print(spearmanr(x_cosine, dataset0['COMPARE']))\n",
    "print(spearmanr(x_cosine, [np.abs(elem) for elem in dataset0['delta_later']]))"
   ]
  },
  {
   "cell_type": "markdown",
   "metadata": {},
   "source": [
    "## Freq1, Freq2, Freq1 / Freq2"
   ]
  },
  {
   "cell_type": "code",
   "execution_count": 70,
   "metadata": {},
   "outputs": [],
   "source": [
    "def calc_freq(words, X, period1, period2):\n",
    "    for idx, word in enumerate(words): \n",
    "        emb1 = period1.get(word)\n",
    "        emb2 = period2.get(word)\n",
    "        X[idx].extend([len(emb1), len(emb2), len(emb1) / len(emb2)])"
   ]
  },
  {
   "cell_type": "code",
   "execution_count": 123,
   "metadata": {},
   "outputs": [],
   "source": [
    "def run_cv(X, y):\n",
    "    kf = KFold(n_splits=5)\n",
    "    test_scores = []\n",
    "\n",
    "    for train_idx, test_idx in kf.split(X):\n",
    "        x_train, x_test = np.array(X)[train_idx], np.array(X)[test_idx]\n",
    "        y_train, y_test = y[train_idx], y[test_idx]\n",
    "\n",
    "        clf = LinearRegression()\n",
    "        clf.fit(x_train, y_train)\n",
    "        pred = clf.predict(x_test)\n",
    "        test_scores.append(spearmanr(pred, y_test))\n",
    "        print('Spearman correlation:', test_scores[-1])\n",
    "\n",
    "    print('Mean score is:', np.mean([np.abs(score[0]) for score in test_scores]))"
   ]
  },
  {
   "cell_type": "markdown",
   "metadata": {},
   "source": [
    "## Посчитаем корреляцию модели, обученной на частотах слов"
   ]
  },
  {
   "cell_type": "code",
   "execution_count": 124,
   "metadata": {},
   "outputs": [
    {
     "name": "stdout",
     "output_type": "stream",
     "text": [
      "Spearman correlation: SpearmanrResult(correlation=-0.17575757575757575, pvalue=0.6271883447764844)\n",
      "Spearman correlation: SpearmanrResult(correlation=-0.19999999999999998, pvalue=0.5795840000000001)\n",
      "Spearman correlation: SpearmanrResult(correlation=0.2606060606060606, pvalue=0.4670890543863402)\n",
      "Spearman correlation: SpearmanrResult(correlation=0.08333333333333334, pvalue=0.831214097710308)\n",
      "Spearman correlation: SpearmanrResult(correlation=0.41666666666666663, pvalue=0.26458604674749614)\n",
      "Mean score is: 0.22727272727272724\n"
     ]
    }
   ],
   "source": [
    "X = [[] for _ in range(dataset0.shape[0])]\n",
    "\n",
    "calc_freq(dataset0['word'], X, presov, sov)\n",
    "\n",
    "run_cv(X, dataset0['COMPARE'])"
   ]
  },
  {
   "cell_type": "code",
   "execution_count": 125,
   "metadata": {},
   "outputs": [
    {
     "name": "stdout",
     "output_type": "stream",
     "text": [
      "Spearman correlation: SpearmanrResult(correlation=-0.28659069365997897, pvalue=0.42208631336590574)\n",
      "Spearman correlation: SpearmanrResult(correlation=0.042948018339789416, pvalue=0.9062243097567702)\n",
      "Spearman correlation: SpearmanrResult(correlation=-0.06686960980480709, pvalue=0.8543750609172778)\n",
      "Spearman correlation: SpearmanrResult(correlation=0.33333333333333337, pvalue=0.3807131816768634)\n",
      "Spearman correlation: SpearmanrResult(correlation=0.08333333333333334, pvalue=0.831214097710308)\n",
      "Mean score is: 0.16261499769424842\n"
     ]
    }
   ],
   "source": [
    "run_cv(X, np.array([np.abs(elem) for elem in dataset0['delta_later']]))"
   ]
  },
  {
   "cell_type": "markdown",
   "metadata": {},
   "source": [
    "## Добавим cosine"
   ]
  },
  {
   "cell_type": "code",
   "execution_count": 126,
   "metadata": {},
   "outputs": [
    {
     "name": "stdout",
     "output_type": "stream",
     "text": [
      "Spearman correlation: SpearmanrResult(correlation=0.6969696969696969, pvalue=0.02509667588225183)\n",
      "Spearman correlation: SpearmanrResult(correlation=-0.006060606060606061, pvalue=0.9867429111949892)\n",
      "Spearman correlation: SpearmanrResult(correlation=0.6484848484848483, pvalue=0.04254012768448945)\n",
      "Spearman correlation: SpearmanrResult(correlation=0.0, pvalue=1.0)\n",
      "Spearman correlation: SpearmanrResult(correlation=0.48333333333333334, pvalue=0.18746985521554207)\n",
      "Mean score is: 0.36696969696969695\n"
     ]
    }
   ],
   "source": [
    "for i in range(dataset0.shape[0]):\n",
    "    X[i].append(x_cosine[i])\n",
    "\n",
    "run_cv(X, dataset0['COMPARE'])"
   ]
  },
  {
   "cell_type": "code",
   "execution_count": 127,
   "metadata": {},
   "outputs": [
    {
     "name": "stdout",
     "output_type": "stream",
     "text": [
      "Spearman correlation: SpearmanrResult(correlation=-0.024390697332764166, pvalue=0.9466770792643007)\n",
      "Spearman correlation: SpearmanrResult(correlation=0.07976060548818034, pvalue=0.8266294205655288)\n",
      "Spearman correlation: SpearmanrResult(correlation=0.5227987675648555, pvalue=0.12102739408380091)\n",
      "Spearman correlation: SpearmanrResult(correlation=0.6, pvalue=0.0876228290414024)\n",
      "Spearman correlation: SpearmanrResult(correlation=0.016666666666666666, pvalue=0.9660548039946861)\n",
      "Mean score is: 0.24872334741049335\n"
     ]
    }
   ],
   "source": [
    "run_cv(X, np.array([np.abs(elem) for elem in dataset0['delta_later']]))"
   ]
  },
  {
   "cell_type": "markdown",
   "metadata": {},
   "source": [
    "## KMeans & JSD + Cosine"
   ]
  },
  {
   "cell_type": "code",
   "execution_count": 128,
   "metadata": {},
   "outputs": [
    {
     "name": "stdout",
     "output_type": "stream",
     "text": [
      "Spearman correlation: SpearmanrResult(correlation=0.5515151515151515, pvalue=0.09840117666963498)\n",
      "Spearman correlation: SpearmanrResult(correlation=-0.13939393939393938, pvalue=0.7009318849100584)\n",
      "Spearman correlation: SpearmanrResult(correlation=0.4424242424242424, pvalue=0.20042268671194224)\n",
      "Spearman correlation: SpearmanrResult(correlation=0.6166666666666666, pvalue=0.07692880993776309)\n",
      "Spearman correlation: SpearmanrResult(correlation=0.016666666666666666, pvalue=0.9660548039946861)\n",
      "Mean score is: 0.35333333333333333\n"
     ]
    }
   ],
   "source": [
    "X = [[] for _ in range(dataset0.shape[0])]\n",
    "\n",
    "for i in range(dataset0.shape[0]):\n",
    "    X[i].append(kmeans_jsd[i])\n",
    "    X[i].append(x_cosine[i])\n",
    "    \n",
    "run_cv(X, dataset0['COMPARE'])"
   ]
  },
  {
   "cell_type": "code",
   "execution_count": 129,
   "metadata": {},
   "outputs": [
    {
     "name": "stdout",
     "output_type": "stream",
     "text": [
      "Spearman correlation: SpearmanrResult(correlation=-0.03658604599914625, pvalue=0.9200750642705431)\n",
      "Spearman correlation: SpearmanrResult(correlation=0.12884405501936821, pvalue=0.7227860826113411)\n",
      "Spearman correlation: SpearmanrResult(correlation=0.47416632407045034, pvalue=0.16619192808155497)\n",
      "Spearman correlation: SpearmanrResult(correlation=0.5666666666666667, pvalue=0.11163298761149111)\n",
      "Spearman correlation: SpearmanrResult(correlation=-0.2333333333333333, pvalue=0.5456987782182727)\n",
      "Mean score is: 0.28791928501779296\n"
     ]
    }
   ],
   "source": [
    "run_cv(X, np.array([np.abs(elem) for elem in dataset0['delta_later']]))"
   ]
  },
  {
   "cell_type": "markdown",
   "metadata": {},
   "source": [
    "## KMeans & JSD + Cosine + Freq"
   ]
  },
  {
   "cell_type": "code",
   "execution_count": 130,
   "metadata": {},
   "outputs": [
    {
     "name": "stdout",
     "output_type": "stream",
     "text": [
      "Spearman correlation: SpearmanrResult(correlation=0.35757575757575755, pvalue=0.3103760917056799)\n",
      "Spearman correlation: SpearmanrResult(correlation=0.006060606060606061, pvalue=0.9867429111949892)\n",
      "Spearman correlation: SpearmanrResult(correlation=0.4787878787878787, pvalue=0.1615229280174558)\n",
      "Spearman correlation: SpearmanrResult(correlation=0.6666666666666667, pvalue=0.04986723056888511)\n",
      "Spearman correlation: SpearmanrResult(correlation=0.18333333333333335, pvalue=0.6368198117628943)\n",
      "Mean score is: 0.3384848484848485\n"
     ]
    }
   ],
   "source": [
    "X = [[] for _ in range(dataset0.shape[0])]\n",
    "\n",
    "calc_freq(dataset0['word'], X, sov, postsov)\n",
    "\n",
    "for i in range(dataset0.shape[0]):\n",
    "    X[i].append(kmeans_jsd[i])\n",
    "    X[i].append(x_cosine[i])\n",
    "\n",
    "run_cv(X, dataset0['COMPARE'])"
   ]
  },
  {
   "cell_type": "code",
   "execution_count": 131,
   "metadata": {},
   "outputs": [
    {
     "name": "stdout",
     "output_type": "stream",
     "text": [
      "Spearman correlation: SpearmanrResult(correlation=-0.3231767396591252, pvalue=0.36237497228677046)\n",
      "Spearman correlation: SpearmanrResult(correlation=0.06748974310538336, pvalue=0.8530368033430833)\n",
      "Spearman correlation: SpearmanrResult(correlation=0.498482545817653, pvalue=0.14251791767625296)\n",
      "Spearman correlation: SpearmanrResult(correlation=0.7166666666666667, pvalue=0.029818035695845287)\n",
      "Spearman correlation: SpearmanrResult(correlation=0.0, pvalue=1.0)\n",
      "Mean score is: 0.3211631390497656\n"
     ]
    }
   ],
   "source": [
    "run_cv(X, np.array([np.abs(elem) for elem in dataset0['delta_later']]))"
   ]
  },
  {
   "cell_type": "code",
   "execution_count": null,
   "metadata": {},
   "outputs": [],
   "source": []
  }
 ],
 "metadata": {
  "kernelspec": {
   "display_name": "Python 3",
   "language": "python",
   "name": "python3"
  },
  "language_info": {
   "codemirror_mode": {
    "name": "ipython",
    "version": 3
   },
   "file_extension": ".py",
   "mimetype": "text/x-python",
   "name": "python",
   "nbconvert_exporter": "python",
   "pygments_lexer": "ipython3",
   "version": "3.7.3"
  }
 },
 "nbformat": 4,
 "nbformat_minor": 4
}
