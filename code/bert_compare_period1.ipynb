{
 "cells": [
  {
   "cell_type": "code",
   "execution_count": 2,
   "metadata": {},
   "outputs": [],
   "source": [
    "import numpy as np\n",
    "import pandas as pd"
   ]
  },
  {
   "cell_type": "code",
   "execution_count": 3,
   "metadata": {},
   "outputs": [],
   "source": [
    "presov = np.load('bert/presov.npz')\n",
    "sov = np.load('bert/sov.npz')\n",
    "postsov = np.load('bert/postsov.npz')"
   ]
  },
  {
   "cell_type": "code",
   "execution_count": 71,
   "metadata": {},
   "outputs": [],
   "source": [
    "dataset0 = pd.read_csv('context-diachrony/datasets/dataset_0_testset.tsv', sep='\\t')"
   ]
  },
  {
   "cell_type": "code",
   "execution_count": 72,
   "metadata": {},
   "outputs": [],
   "source": [
    "dataset0 = dataset0.sample(frac=1).reset_index(drop=True)"
   ]
  },
  {
   "cell_type": "code",
   "execution_count": 73,
   "metadata": {},
   "outputs": [
    {
     "data": {
      "text/html": [
       "<div>\n",
       "<style scoped>\n",
       "    .dataframe tbody tr th:only-of-type {\n",
       "        vertical-align: middle;\n",
       "    }\n",
       "\n",
       "    .dataframe tbody tr th {\n",
       "        vertical-align: top;\n",
       "    }\n",
       "\n",
       "    .dataframe thead th {\n",
       "        text-align: right;\n",
       "    }\n",
       "</style>\n",
       "<table border=\"1\" class=\"dataframe\">\n",
       "  <thead>\n",
       "    <tr style=\"text-align: right;\">\n",
       "      <th></th>\n",
       "      <th>word</th>\n",
       "      <th>COMPARE</th>\n",
       "      <th>EARLIER</th>\n",
       "      <th>LATER</th>\n",
       "      <th>delta_later</th>\n",
       "    </tr>\n",
       "  </thead>\n",
       "  <tbody>\n",
       "    <tr>\n",
       "      <th>0</th>\n",
       "      <td>участок</td>\n",
       "      <td>1.90</td>\n",
       "      <td>2.00</td>\n",
       "      <td>2.12</td>\n",
       "      <td>0.12</td>\n",
       "    </tr>\n",
       "    <tr>\n",
       "      <th>1</th>\n",
       "      <td>обвинитель</td>\n",
       "      <td>3.48</td>\n",
       "      <td>3.26</td>\n",
       "      <td>3.43</td>\n",
       "      <td>0.17</td>\n",
       "    </tr>\n",
       "    <tr>\n",
       "      <th>2</th>\n",
       "      <td>серединный</td>\n",
       "      <td>2.33</td>\n",
       "      <td>2.21</td>\n",
       "      <td>2.11</td>\n",
       "      <td>-0.10</td>\n",
       "    </tr>\n",
       "    <tr>\n",
       "      <th>3</th>\n",
       "      <td>присутствие</td>\n",
       "      <td>3.16</td>\n",
       "      <td>2.89</td>\n",
       "      <td>3.01</td>\n",
       "      <td>0.12</td>\n",
       "    </tr>\n",
       "    <tr>\n",
       "      <th>4</th>\n",
       "      <td>тройка</td>\n",
       "      <td>2.50</td>\n",
       "      <td>3.33</td>\n",
       "      <td>1.43</td>\n",
       "      <td>-1.90</td>\n",
       "    </tr>\n",
       "  </tbody>\n",
       "</table>\n",
       "</div>"
      ],
      "text/plain": [
       "          word  COMPARE  EARLIER  LATER  delta_later\n",
       "0      участок     1.90     2.00   2.12         0.12\n",
       "1   обвинитель     3.48     3.26   3.43         0.17\n",
       "2   серединный     2.33     2.21   2.11        -0.10\n",
       "3  присутствие     3.16     2.89   3.01         0.12\n",
       "4       тройка     2.50     3.33   1.43        -1.90"
      ]
     },
     "execution_count": 73,
     "metadata": {},
     "output_type": "execute_result"
    }
   ],
   "source": [
    "dataset0.head()"
   ]
  },
  {
   "cell_type": "code",
   "execution_count": 131,
   "metadata": {},
   "outputs": [],
   "source": [
    "from sklearn.cluster import KMeans\n",
    "from sklearn.cluster import AffinityPropagation\n",
    "from sklearn.linear_model import LinearRegression\n",
    "from scipy.spatial.distance import jensenshannon as jsd\n",
    "from scipy.spatial.distance import cosine\n",
    "from scipy.stats import spearmanr\n",
    "from sklearn.model_selection import KFold\n",
    "from tqdm import tqdm\n",
    "\n",
    "K = 5"
   ]
  },
  {
   "cell_type": "markdown",
   "metadata": {},
   "source": [
    "## Kmeans (k = 5) + Jensenshannon"
   ]
  },
  {
   "cell_type": "code",
   "execution_count": 24,
   "metadata": {},
   "outputs": [],
   "source": [
    "def calc_kmeans_jsd(words, X, period1, period2):\n",
    "    for idx, word in enumerate(words):\n",
    "        emb1 = period1.get(word)\n",
    "        emb2 = period2.get(word)\n",
    "        if emb1.shape[0] > 1000:\n",
    "            rand_idxs = np.random.choice(emb1.shape[0], 1000, replace=False)\n",
    "            emb1 = emb1[rand_idxs]\n",
    "        if emb2.shape[0] > 1000:\n",
    "            rand_idxs = np.random.choice(emb2.shape[0], 1000, replace=False)\n",
    "            emb2 = emb2[rand_idxs]\n",
    "        \n",
    "        embs = []\n",
    "        embs.extend(emb1)\n",
    "        embs.extend(emb2)\n",
    "\n",
    "        kmeans = KMeans(n_clusters=K, random_state=42).fit(embs)\n",
    "        dist1 = [np.count_nonzero(kmeans.labels_[:len(emb1)] == i) / len(emb1) for i in range(K)]\n",
    "        dist2 = [np.count_nonzero(kmeans.labels_[len(emb1):] == i) / len(emb2) for i in range(K)]\n",
    "\n",
    "        X[idx].append(jsd(dist1, dist2))"
   ]
  },
  {
   "cell_type": "markdown",
   "metadata": {},
   "source": [
    "## Kmeans + max(square())"
   ]
  },
  {
   "cell_type": "code",
   "execution_count": 25,
   "metadata": {},
   "outputs": [],
   "source": [
    "def calc_kmeans_max_square(words, X, period1, period2):\n",
    "    for idx, word in enumerate(words):\n",
    "        emb1 = period1.get(word)\n",
    "        emb2 = period2.get(word)\n",
    "        if emb1.shape[0] > 1000:\n",
    "            rand_idxs = np.random.choice(emb1.shape[0], 1000, replace=False)\n",
    "            emb1 = emb1[rand_idxs]\n",
    "        if emb2.shape[0] > 1000:\n",
    "            rand_idxs = np.random.choice(emb2.shape[0], 1000, replace=False)\n",
    "            emb2 = emb2[rand_idxs]\n",
    "        \n",
    "        embs = []\n",
    "        embs.extend(emb1)\n",
    "        embs.extend(emb2)\n",
    "\n",
    "        kmeans = KMeans(n_clusters=K, random_state=42).fit(embs)\n",
    "        dist1 = [np.count_nonzero(kmeans.labels_[:len(emb1)] == i) / len(emb1) for i in range(K)]\n",
    "        dist2 = [np.count_nonzero(kmeans.labels_[len(emb1):] == i) / len(emb2) for i in range(K)]\n",
    "\n",
    "        X[idx].append(np.max(np.square(dist1) - np.square(dist2)))"
   ]
  },
  {
   "cell_type": "markdown",
   "metadata": {},
   "source": [
    "## AffinityPropagation + Jensenshannon"
   ]
  },
  {
   "cell_type": "code",
   "execution_count": 140,
   "metadata": {},
   "outputs": [],
   "source": [
    "def calc_aff_jsd(words, X, period1, period2):\n",
    "    for idx, word in tqdm(enumerate(words)):\n",
    "        emb1 = period1.get(word)\n",
    "        emb2 = period2.get(word)\n",
    "        if emb1.shape[0] > 1000:\n",
    "            rand_idxs = np.random.choice(emb1.shape[0], 1000, replace=False)\n",
    "            emb1 = emb1[rand_idxs]\n",
    "        if emb2.shape[0] > 1000:\n",
    "            rand_idxs = np.random.choice(emb2.shape[0], 1000, replace=False)\n",
    "            emb2 = emb2[rand_idxs]\n",
    "        \n",
    "        embs = []\n",
    "        embs.extend(emb1)\n",
    "        embs.extend(emb2)\n",
    "        \n",
    "        clustering = AffinityPropagation(random_state=42).fit(embs)\n",
    "        dist1 = [np.count_nonzero(clustering.labels_[:len(emb1)] == i) / len(emb1) \n",
    "                 for i in range(np.max(clustering.labels_))]\n",
    "        dist2 = [np.count_nonzero(clustering.labels_[len(emb1):] == i) / len(emb2) \n",
    "                 for i in range(np.max(clustering.labels_))]\n",
    "\n",
    "        X[idx].append(jsd(dist1, dist2))"
   ]
  },
  {
   "cell_type": "markdown",
   "metadata": {},
   "source": [
    "## Cosine(mean())"
   ]
  },
  {
   "cell_type": "code",
   "execution_count": 27,
   "metadata": {},
   "outputs": [],
   "source": [
    "def calc_cosine(words, X, period1, period2):\n",
    "    for idx, word in enumerate(words): \n",
    "        emb1 = period1.get(word)\n",
    "        emb2 = period2.get(word)\n",
    "        X[idx].append(cosine(np.mean(emb1, axis=0), np.mean(emb2, axis=0)))"
   ]
  },
  {
   "cell_type": "markdown",
   "metadata": {},
   "source": [
    "## Freq1, Freq2, Freq1 / Freq2"
   ]
  },
  {
   "cell_type": "code",
   "execution_count": 130,
   "metadata": {},
   "outputs": [],
   "source": [
    "def calc_freq(words, X, period1, period2):\n",
    "    for idx, word in enumerate(words): \n",
    "        emb1 = period1.get(word)\n",
    "        emb2 = period2.get(word)\n",
    "        X[idx].extend([len(emb1), len(emb2), len(emb1) / len(emb2)])"
   ]
  },
  {
   "cell_type": "markdown",
   "metadata": {},
   "source": [
    "## Сначала посчитаем корреляции с отдельными признаками"
   ]
  },
  {
   "cell_type": "code",
   "execution_count": 132,
   "metadata": {},
   "outputs": [
    {
     "data": {
      "text/plain": [
       "SpearmanrResult(correlation=-0.19106870488655406, pvalue=0.11045759496058974)"
      ]
     },
     "execution_count": 132,
     "metadata": {},
     "output_type": "execute_result"
    }
   ],
   "source": [
    "X = [[] for _ in range(dataset0.shape[0])]\n",
    "y = dataset0['COMPARE']\n",
    "\n",
    "calc_kmeans_max_square(dataset0['word'], X, presov, sov)\n",
    "spearmanr(X, y)"
   ]
  },
  {
   "cell_type": "code",
   "execution_count": 133,
   "metadata": {},
   "outputs": [
    {
     "data": {
      "text/plain": [
       "SpearmanrResult(correlation=-0.40459142029119627, pvalue=0.0004660609752127064)"
      ]
     },
     "execution_count": 133,
     "metadata": {},
     "output_type": "execute_result"
    }
   ],
   "source": [
    "X = [[] for _ in range(dataset0.shape[0])]\n",
    "y = dataset0['COMPARE']\n",
    "\n",
    "calc_kmeans_jsd(dataset0['word'], X, presov, sov)\n",
    "spearmanr(X, y)"
   ]
  },
  {
   "cell_type": "code",
   "execution_count": 135,
   "metadata": {},
   "outputs": [
    {
     "data": {
      "text/plain": [
       "SpearmanrResult(correlation=-0.5313668642917534, pvalue=1.86266882459779e-06)"
      ]
     },
     "execution_count": 135,
     "metadata": {},
     "output_type": "execute_result"
    }
   ],
   "source": [
    "X = [[] for _ in range(dataset0.shape[0])]\n",
    "y = dataset0['COMPARE']\n",
    "\n",
    "calc_cosine(dataset0['word'], X, presov, sov)\n",
    "spearmanr(X, y)"
   ]
  },
  {
   "cell_type": "code",
   "execution_count": 136,
   "metadata": {},
   "outputs": [
    {
     "name": "stderr",
     "output_type": "stream",
     "text": [
      "7it [00:26,  3.99s/it]/Users/julia-trofim/anaconda3/lib/python3.7/site-packages/sklearn/cluster/_affinity_propagation.py:244: ConvergenceWarning: Affinity propagation did not converge, this model will not have any cluster centers.\n",
      "  \"will not have any cluster centers.\", ConvergenceWarning)\n",
      "8it [00:35,  5.37s/it]/Users/julia-trofim/anaconda3/lib/python3.7/site-packages/sklearn/cluster/_affinity_propagation.py:244: ConvergenceWarning: Affinity propagation did not converge, this model will not have any cluster centers.\n",
      "  \"will not have any cluster centers.\", ConvergenceWarning)\n",
      "11it [01:01,  7.02s/it]/Users/julia-trofim/anaconda3/lib/python3.7/site-packages/sklearn/cluster/_affinity_propagation.py:244: ConvergenceWarning: Affinity propagation did not converge, this model will not have any cluster centers.\n",
      "  \"will not have any cluster centers.\", ConvergenceWarning)\n",
      "16it [01:31,  4.77s/it]/Users/julia-trofim/anaconda3/lib/python3.7/site-packages/sklearn/cluster/_affinity_propagation.py:244: ConvergenceWarning: Affinity propagation did not converge, this model will not have any cluster centers.\n",
      "  \"will not have any cluster centers.\", ConvergenceWarning)\n",
      "17it [01:40,  6.20s/it]/Users/julia-trofim/anaconda3/lib/python3.7/site-packages/sklearn/cluster/_affinity_propagation.py:244: ConvergenceWarning: Affinity propagation did not converge, this model will not have any cluster centers.\n",
      "  \"will not have any cluster centers.\", ConvergenceWarning)\n",
      "22it [02:07,  5.13s/it]/Users/julia-trofim/anaconda3/lib/python3.7/site-packages/sklearn/cluster/_affinity_propagation.py:244: ConvergenceWarning: Affinity propagation did not converge, this model will not have any cluster centers.\n",
      "  \"will not have any cluster centers.\", ConvergenceWarning)\n",
      "30it [02:44,  4.52s/it]/Users/julia-trofim/anaconda3/lib/python3.7/site-packages/sklearn/cluster/_affinity_propagation.py:244: ConvergenceWarning: Affinity propagation did not converge, this model will not have any cluster centers.\n",
      "  \"will not have any cluster centers.\", ConvergenceWarning)\n",
      "34it [03:07,  5.26s/it]/Users/julia-trofim/anaconda3/lib/python3.7/site-packages/sklearn/cluster/_affinity_propagation.py:244: ConvergenceWarning: Affinity propagation did not converge, this model will not have any cluster centers.\n",
      "  \"will not have any cluster centers.\", ConvergenceWarning)\n",
      "38it [03:19,  3.86s/it]/Users/julia-trofim/anaconda3/lib/python3.7/site-packages/sklearn/cluster/_affinity_propagation.py:244: ConvergenceWarning: Affinity propagation did not converge, this model will not have any cluster centers.\n",
      "  \"will not have any cluster centers.\", ConvergenceWarning)\n",
      "45it [03:48,  3.37s/it]/Users/julia-trofim/anaconda3/lib/python3.7/site-packages/sklearn/cluster/_affinity_propagation.py:244: ConvergenceWarning: Affinity propagation did not converge, this model will not have any cluster centers.\n",
      "  \"will not have any cluster centers.\", ConvergenceWarning)\n",
      "47it [04:12,  7.71s/it]/Users/julia-trofim/anaconda3/lib/python3.7/site-packages/sklearn/cluster/_affinity_propagation.py:244: ConvergenceWarning: Affinity propagation did not converge, this model will not have any cluster centers.\n",
      "  \"will not have any cluster centers.\", ConvergenceWarning)\n",
      "49it [04:19,  5.42s/it]/Users/julia-trofim/anaconda3/lib/python3.7/site-packages/sklearn/cluster/_affinity_propagation.py:244: ConvergenceWarning: Affinity propagation did not converge, this model will not have any cluster centers.\n",
      "  \"will not have any cluster centers.\", ConvergenceWarning)\n",
      "71it [06:04,  5.13s/it]\n"
     ]
    },
    {
     "data": {
      "text/plain": [
       "SpearmanrResult(correlation=-0.3626081084082658, pvalue=0.0018857695118743574)"
      ]
     },
     "execution_count": 136,
     "metadata": {},
     "output_type": "execute_result"
    }
   ],
   "source": [
    "X = [[] for _ in range(dataset0.shape[0])]\n",
    "y = dataset0['COMPARE']\n",
    "\n",
    "calc_aff_jsd(dataset0['word'], X, presov, sov)\n",
    "spearmanr(X, y)"
   ]
  },
  {
   "cell_type": "code",
   "execution_count": 141,
   "metadata": {},
   "outputs": [],
   "source": [
    "def run_cv(X, y):\n",
    "    kf = KFold(n_splits=7)\n",
    "    test_scores = []\n",
    "\n",
    "    for train_idx, test_idx in kf.split(X):\n",
    "        x_train, x_test = np.array(X)[train_idx], np.array(X)[test_idx]\n",
    "        y_train, y_test = y[train_idx], y[test_idx]\n",
    "\n",
    "        clf = LinearRegression()\n",
    "        clf.fit(x_train, y_train)\n",
    "        pred = clf.predict(x_test)\n",
    "        test_scores.append(spearmanr(pred, y_test))\n",
    "        print('Spearman correlation:', test_scores[-1])\n",
    "\n",
    "    print('Mean score is:', np.mean([np.abs(score[0]) for score in test_scores]))"
   ]
  },
  {
   "cell_type": "markdown",
   "metadata": {},
   "source": [
    "## Посчитаем корреляцию модели, обученной на частотах слов"
   ]
  },
  {
   "cell_type": "code",
   "execution_count": 142,
   "metadata": {},
   "outputs": [
    {
     "name": "stdout",
     "output_type": "stream",
     "text": [
      "Spearman correlation: SpearmanrResult(correlation=0.18181818181818182, pvalue=0.5926152128455)\n",
      "Spearman correlation: SpearmanrResult(correlation=0.16363636363636364, pvalue=0.6514773427962428)\n",
      "Spearman correlation: SpearmanrResult(correlation=0.2857156055296304, pvalue=0.42356778382654603)\n",
      "Spearman correlation: SpearmanrResult(correlation=0.2121212121212121, pvalue=0.5563057751029299)\n",
      "Spearman correlation: SpearmanrResult(correlation=-0.13939393939393938, pvalue=0.7009318849100584)\n",
      "Spearman correlation: SpearmanrResult(correlation=0.7696969696969697, pvalue=0.009221952722215994)\n",
      "Spearman correlation: SpearmanrResult(correlation=0.8389096502784891, pvalue=0.0024139883688156136)\n",
      "Mean score is: 0.37018456035354086\n"
     ]
    }
   ],
   "source": [
    "X = [[] for _ in range(dataset0.shape[0])]\n",
    "y = dataset0['COMPARE']\n",
    "\n",
    "calc_freq(dataset0['word'], X, presov, sov)\n",
    "\n",
    "run_cv(X, y)"
   ]
  },
  {
   "cell_type": "markdown",
   "metadata": {},
   "source": [
    "## Добавим к ней признак kmeans + jensenshannon"
   ]
  },
  {
   "cell_type": "code",
   "execution_count": 143,
   "metadata": {},
   "outputs": [
    {
     "name": "stdout",
     "output_type": "stream",
     "text": [
      "Spearman correlation: SpearmanrResult(correlation=0.5818181818181819, pvalue=0.060419896215648305)\n",
      "Spearman correlation: SpearmanrResult(correlation=0.24848484848484845, pvalue=0.48877630451924314)\n",
      "Spearman correlation: SpearmanrResult(correlation=0.33434804902403553, pvalue=0.34503632799221085)\n",
      "Spearman correlation: SpearmanrResult(correlation=0.4545454545454545, pvalue=0.186904810349332)\n",
      "Spearman correlation: SpearmanrResult(correlation=0.33333333333333326, pvalue=0.34659350708733405)\n",
      "Spearman correlation: SpearmanrResult(correlation=0.5393939393939393, pvalue=0.1075931877824148)\n",
      "Spearman correlation: SpearmanrResult(correlation=0.7841981513472833, pvalue=0.007245486403052556)\n",
      "Mean score is: 0.468017422563868\n"
     ]
    }
   ],
   "source": [
    "calc_kmeans_jsd(dataset0['word'], X, presov, sov)\n",
    "run_cv(X, y)"
   ]
  },
  {
   "cell_type": "markdown",
   "metadata": {},
   "source": [
    "## Добавим к ним cosine"
   ]
  },
  {
   "cell_type": "code",
   "execution_count": 144,
   "metadata": {},
   "outputs": [
    {
     "name": "stdout",
     "output_type": "stream",
     "text": [
      "Spearman correlation: SpearmanrResult(correlation=0.5636363636363637, pvalue=0.07095173447637536)\n",
      "Spearman correlation: SpearmanrResult(correlation=0.24848484848484845, pvalue=0.48877630451924314)\n",
      "Spearman correlation: SpearmanrResult(correlation=0.33434804902403553, pvalue=0.34503632799221085)\n",
      "Spearman correlation: SpearmanrResult(correlation=0.4545454545454545, pvalue=0.186904810349332)\n",
      "Spearman correlation: SpearmanrResult(correlation=0.23636363636363633, pvalue=0.5108853175152002)\n",
      "Spearman correlation: SpearmanrResult(correlation=0.5393939393939393, pvalue=0.1075931877824148)\n",
      "Spearman correlation: SpearmanrResult(correlation=0.4559291577600484, pvalue=0.18539676445371583)\n",
      "Mean score is: 0.40467163560118946\n"
     ]
    }
   ],
   "source": [
    "calc_cosine(dataset0['word'], X, presov, sov)\n",
    "run_cv(X, y)"
   ]
  },
  {
   "cell_type": "code",
   "execution_count": null,
   "metadata": {},
   "outputs": [],
   "source": []
  }
 ],
 "metadata": {
  "kernelspec": {
   "display_name": "Python 3",
   "language": "python",
   "name": "python3"
  },
  "language_info": {
   "codemirror_mode": {
    "name": "ipython",
    "version": 3
   },
   "file_extension": ".py",
   "mimetype": "text/x-python",
   "name": "python",
   "nbconvert_exporter": "python",
   "pygments_lexer": "ipython3",
   "version": "3.7.3"
  }
 },
 "nbformat": 4,
 "nbformat_minor": 4
}
