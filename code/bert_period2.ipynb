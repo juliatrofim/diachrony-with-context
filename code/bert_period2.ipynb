{
 "cells": [
  {
   "cell_type": "code",
   "execution_count": 1,
   "metadata": {},
   "outputs": [],
   "source": [
    "import numpy as np\n",
    "import pandas as pd"
   ]
  },
  {
   "cell_type": "code",
   "execution_count": 2,
   "metadata": {},
   "outputs": [],
   "source": [
    "presov = np.load('bert/presov.npz')\n",
    "sov = np.load('bert/sov.npz')\n",
    "postsov = np.load('bert/postsov.npz')"
   ]
  },
  {
   "cell_type": "code",
   "execution_count": 3,
   "metadata": {},
   "outputs": [
    {
     "name": "stdout",
     "output_type": "stream",
     "text": [
      "dataset_0.csv                  dataset_1.csv\r\n",
      "dataset_0_annotation.tsv       dataset_1_annotation.tsv\r\n",
      "dataset_0_testset.tsv          dataset_1_testset.tsv\r\n",
      "dataset_0_testset_filtered.tsv dataset_1_testset_filtered.tsv\r\n"
     ]
    }
   ],
   "source": [
    "! ls context-diachrony/datasets"
   ]
  },
  {
   "cell_type": "code",
   "execution_count": 10,
   "metadata": {},
   "outputs": [],
   "source": [
    "dataset0 = pd.read_csv('context-diachrony/datasets/dataset_1_testset.tsv', sep='\\t')"
   ]
  },
  {
   "cell_type": "code",
   "execution_count": 11,
   "metadata": {},
   "outputs": [
    {
     "data": {
      "text/html": [
       "<div>\n",
       "<style scoped>\n",
       "    .dataframe tbody tr th:only-of-type {\n",
       "        vertical-align: middle;\n",
       "    }\n",
       "\n",
       "    .dataframe tbody tr th {\n",
       "        vertical-align: top;\n",
       "    }\n",
       "\n",
       "    .dataframe thead th {\n",
       "        text-align: right;\n",
       "    }\n",
       "</style>\n",
       "<table border=\"1\" class=\"dataframe\">\n",
       "  <thead>\n",
       "    <tr style=\"text-align: right;\">\n",
       "      <th></th>\n",
       "      <th>word</th>\n",
       "      <th>COMPARE</th>\n",
       "      <th>EARLIER</th>\n",
       "      <th>LATER</th>\n",
       "      <th>delta_later</th>\n",
       "    </tr>\n",
       "  </thead>\n",
       "  <tbody>\n",
       "    <tr>\n",
       "      <th>0</th>\n",
       "      <td>ателье</td>\n",
       "      <td>3.29</td>\n",
       "      <td>3.30</td>\n",
       "      <td>3.19</td>\n",
       "      <td>-0.11</td>\n",
       "    </tr>\n",
       "    <tr>\n",
       "      <th>1</th>\n",
       "      <td>бескомпромиссность</td>\n",
       "      <td>3.84</td>\n",
       "      <td>3.76</td>\n",
       "      <td>3.84</td>\n",
       "      <td>0.08</td>\n",
       "    </tr>\n",
       "    <tr>\n",
       "      <th>2</th>\n",
       "      <td>беспредел</td>\n",
       "      <td>3.55</td>\n",
       "      <td>3.10</td>\n",
       "      <td>3.25</td>\n",
       "      <td>0.15</td>\n",
       "    </tr>\n",
       "    <tr>\n",
       "      <th>3</th>\n",
       "      <td>благотворительность</td>\n",
       "      <td>3.58</td>\n",
       "      <td>3.46</td>\n",
       "      <td>3.69</td>\n",
       "      <td>0.23</td>\n",
       "    </tr>\n",
       "    <tr>\n",
       "      <th>4</th>\n",
       "      <td>блочный</td>\n",
       "      <td>2.15</td>\n",
       "      <td>2.57</td>\n",
       "      <td>2.63</td>\n",
       "      <td>0.06</td>\n",
       "    </tr>\n",
       "  </tbody>\n",
       "</table>\n",
       "</div>"
      ],
      "text/plain": [
       "                  word  COMPARE  EARLIER  LATER  delta_later\n",
       "0               ателье     3.29     3.30   3.19        -0.11\n",
       "1   бескомпромиссность     3.84     3.76   3.84         0.08\n",
       "2            беспредел     3.55     3.10   3.25         0.15\n",
       "3  благотворительность     3.58     3.46   3.69         0.23\n",
       "4              блочный     2.15     2.57   2.63         0.06"
      ]
     },
     "execution_count": 11,
     "metadata": {},
     "output_type": "execute_result"
    }
   ],
   "source": [
    "dataset0.head()"
   ]
  },
  {
   "cell_type": "code",
   "execution_count": 6,
   "metadata": {},
   "outputs": [],
   "source": [
    "np.random.seed(42)"
   ]
  },
  {
   "cell_type": "code",
   "execution_count": 7,
   "metadata": {},
   "outputs": [],
   "source": [
    "from sklearn.cluster import KMeans\n",
    "from sklearn.cluster import AffinityPropagation\n",
    "from sklearn.linear_model import LinearRegression\n",
    "from scipy.spatial.distance import jensenshannon as jsd\n",
    "from scipy.spatial.distance import cosine\n",
    "from scipy.stats import spearmanr\n",
    "from sklearn.model_selection import KFold\n",
    "from catboost import CatBoostRegressor\n",
    "\n",
    "K = 5"
   ]
  },
  {
   "cell_type": "markdown",
   "metadata": {},
   "source": [
    "## KMeans"
   ]
  },
  {
   "cell_type": "code",
   "execution_count": 8,
   "metadata": {},
   "outputs": [],
   "source": [
    "def calc_kmeans(word):\n",
    "    sov = np.load('bert/sov.npz')\n",
    "    postsov = np.load('bert/postsov.npz')\n",
    "    emb1 = sov.get(word)\n",
    "    emb2 = postsov.get(word)\n",
    "    if emb1.shape[0] > 10000:\n",
    "        rand_idxs = np.random.choice(emb1.shape[0], 10000, replace=False)\n",
    "        emb1 = emb1[rand_idxs]\n",
    "    if emb2.shape[0] > 10000:\n",
    "        rand_idxs = np.random.choice(emb2.shape[0], 10000, replace=False)\n",
    "        emb2 = emb2[rand_idxs]\n",
    "\n",
    "    embs = []\n",
    "    embs.extend(emb1)\n",
    "    embs.extend(emb2)\n",
    "\n",
    "    kmeans = KMeans(n_clusters=K, random_state=42).fit(embs)\n",
    "    dist1 = [np.count_nonzero(kmeans.labels_[:len(emb1)] == i) / len(emb1) for i in range(K)]\n",
    "    dist2 = [np.count_nonzero(kmeans.labels_[len(emb1):] == i) / len(emb2) for i in range(K)]\n",
    "\n",
    "    return {word : [dist1, dist2]}\n"
   ]
  },
  {
   "cell_type": "code",
   "execution_count": 13,
   "metadata": {},
   "outputs": [
    {
     "name": "stdout",
     "output_type": "stream",
     "text": [
      "72.6599748134613\n"
     ]
    }
   ],
   "source": [
    "from joblib import Parallel, delayed\n",
    "import time\n",
    "\n",
    "start = time.time()\n",
    "results = Parallel(n_jobs=-1)(\n",
    "    delayed(calc_kmeans)(word) for word in list(dataset0['word'])\n",
    ")\n",
    "print(time.time() - start)"
   ]
  },
  {
   "cell_type": "code",
   "execution_count": 14,
   "metadata": {},
   "outputs": [
    {
     "name": "stdout",
     "output_type": "stream",
     "text": [
      "SpearmanrResult(correlation=-0.3712845064677236, pvalue=0.001684487148800321)\n",
      "SpearmanrResult(correlation=0.18751485935065723, pvalue=0.12285976017400153)\n"
     ]
    }
   ],
   "source": [
    "kmeans_jsd = []\n",
    "for item in results:\n",
    "    for k, v in item.items():\n",
    "        kmeans_jsd.append(jsd(v[0], v[1]))\n",
    "        \n",
    "print(spearmanr(kmeans_jsd, dataset0['COMPARE']))\n",
    "print(spearmanr(kmeans_jsd, [np.abs(elem) for elem in dataset0['delta_later']]))"
   ]
  },
  {
   "cell_type": "code",
   "execution_count": 15,
   "metadata": {},
   "outputs": [
    {
     "name": "stdout",
     "output_type": "stream",
     "text": [
      "SpearmanrResult(correlation=-0.29210588859481534, pvalue=0.014872906867211972)\n",
      "SpearmanrResult(correlation=0.1425595378417773, pvalue=0.24259125890014496)\n"
     ]
    }
   ],
   "source": [
    "kmeans_max = []\n",
    "for item in results:\n",
    "    for k, v in item.items():\n",
    "        kmeans_max.append(np.max(np.square(v[0]) - np.square(v[1])))\n",
    "        \n",
    "print(spearmanr(kmeans_max, dataset0['COMPARE']))\n",
    "print(spearmanr(kmeans_max, [np.abs(elem) for elem in dataset0['delta_later']]))"
   ]
  },
  {
   "cell_type": "markdown",
   "metadata": {},
   "source": [
    "## AffinityPropagation "
   ]
  },
  {
   "cell_type": "code",
   "execution_count": 16,
   "metadata": {},
   "outputs": [
    {
     "name": "stdout",
     "output_type": "stream",
     "text": [
      "SpearmanrResult(correlation=-0.38271675168275743, pvalue=0.0011723525606733528)\n",
      "SpearmanrResult(correlation=0.21338953734228122, pvalue=0.07832255290651878)\n"
     ]
    }
   ],
   "source": [
    "affinity_jsd = []\n",
    "with open('aff_jsd2.txt') as f: # sort by word in file\n",
    "    for line in f.readlines():\n",
    "        affinity_jsd.append(line[:-1].split('=')[1])\n",
    "\n",
    "print(spearmanr(affinity_jsd, dataset0['COMPARE']))\n",
    "print(spearmanr(affinity_jsd, [np.abs(elem) for elem in dataset0['delta_later']]))"
   ]
  },
  {
   "cell_type": "markdown",
   "metadata": {},
   "source": [
    "## Cosine"
   ]
  },
  {
   "cell_type": "code",
   "execution_count": 17,
   "metadata": {},
   "outputs": [],
   "source": [
    "def calc_cosine(words, period1, period2):\n",
    "    X = []\n",
    "    for idx, word in enumerate(words): \n",
    "        emb1 = period1.get(word)\n",
    "        emb2 = period2.get(word)\n",
    "        X.append(cosine(np.mean(emb1, axis=0), np.mean(emb2, axis=0)))\n",
    "    return X"
   ]
  },
  {
   "cell_type": "code",
   "execution_count": 18,
   "metadata": {},
   "outputs": [
    {
     "name": "stdout",
     "output_type": "stream",
     "text": [
      "SpearmanrResult(correlation=-0.42176224555005987, pvalue=0.00030694633351874116)\n",
      "SpearmanrResult(correlation=0.2915517070539309, pvalue=0.01507273920765314)\n"
     ]
    }
   ],
   "source": [
    "x_cosine = calc_cosine(dataset0['word'], sov, postsov)\n",
    "\n",
    "print(spearmanr(x_cosine, dataset0['COMPARE']))\n",
    "print(spearmanr(x_cosine, [np.abs(elem) for elem in dataset0['delta_later']]))"
   ]
  },
  {
   "cell_type": "markdown",
   "metadata": {},
   "source": [
    "## Freq1, Freq2, Freq1 / Freq2"
   ]
  },
  {
   "cell_type": "code",
   "execution_count": 70,
   "metadata": {},
   "outputs": [],
   "source": [
    "def calc_freq(words, X, period1, period2):\n",
    "    for idx, word in enumerate(words): \n",
    "        emb1 = period1.get(word)\n",
    "        emb2 = period2.get(word)\n",
    "        X[idx].extend([len(emb1), len(emb2), len(emb1) / len(emb2)])"
   ]
  },
  {
   "cell_type": "markdown",
   "metadata": {},
   "source": [
    "## CatBoostRegressor cross validation"
   ]
  },
  {
   "cell_type": "code",
   "execution_count": 73,
   "metadata": {},
   "outputs": [],
   "source": [
    "def run_cv_cb(X, y):\n",
    "    kf = KFold(n_splits=7)\n",
    "    test_scores = []\n",
    "\n",
    "    for train_idx, test_idx in kf.split(X):\n",
    "        x_train, x_test = np.array(X)[train_idx], np.array(X)[test_idx]\n",
    "        y_train, y_test = y[train_idx], y[test_idx]\n",
    "\n",
    "        clf = CatBoostRegressor(verbose=False)\n",
    "        clf.fit(x_train, y_train)\n",
    "        pred = clf.predict(x_test)\n",
    "        test_scores.append(spearmanr(pred, y_test))\n",
    "        print('Features importance:', clf.feature_importances_)\n",
    "        print('Spearman correlation:', test_scores[-1])\n",
    "\n",
    "    print('Mean score is:', np.mean([np.abs(score[0]) for score in test_scores]))"
   ]
  },
  {
   "cell_type": "markdown",
   "metadata": {},
   "source": [
    "## Посчитаем корреляцию модели, обученной на частотах слов"
   ]
  },
  {
   "cell_type": "code",
   "execution_count": 76,
   "metadata": {},
   "outputs": [
    {
     "name": "stdout",
     "output_type": "stream",
     "text": [
      "Features importance: [37.61581227 33.71914597 28.66504176]\n",
      "Spearman correlation: SpearmanrResult(correlation=-0.43636363636363645, pvalue=0.17966487658001123)\n",
      "Features importance: [40.15206559 30.721257   29.12667741]\n",
      "Spearman correlation: SpearmanrResult(correlation=-0.03647433262080388, pvalue=0.9203184602756675)\n",
      "Features importance: [27.68424399 38.79872654 33.51702948]\n",
      "Spearman correlation: SpearmanrResult(correlation=0.32121212121212117, pvalue=0.3654683104386702)\n",
      "Features importance: [23.36105417 43.90996715 32.72897868]\n",
      "Spearman correlation: SpearmanrResult(correlation=0.41818181818181815, pvalue=0.22911284098281892)\n",
      "Features importance: [32.22465978 40.24522792 27.5301123 ]\n",
      "Spearman correlation: SpearmanrResult(correlation=0.34545454545454546, pvalue=0.32822651147136733)\n",
      "Features importance: [30.62213442 37.41263947 31.96522611]\n",
      "Spearman correlation: SpearmanrResult(correlation=0.22424242424242422, pvalue=0.5334005612725947)\n",
      "Features importance: [36.29699823 33.82188437 29.8811174 ]\n",
      "Spearman correlation: SpearmanrResult(correlation=0.12727272727272726, pvalue=0.7260570147627894)\n",
      "Mean score is: 0.27274308647829665\n"
     ]
    }
   ],
   "source": [
    "X = [[] for _ in range(dataset0.shape[0])]\n",
    "\n",
    "calc_freq(dataset0['word'], X, presov, sov)\n",
    "\n",
    "run_cv_cb(X, dataset0['COMPARE'])"
   ]
  },
  {
   "cell_type": "code",
   "execution_count": 78,
   "metadata": {},
   "outputs": [
    {
     "name": "stdout",
     "output_type": "stream",
     "text": [
      "Features importance: [27.34557363 30.86381344 41.79061293]\n",
      "Spearman correlation: SpearmanrResult(correlation=0.19590028045862823, pvalue=0.5637442329087623)\n",
      "Features importance: [28.13914937 35.57545976 36.28539088]\n",
      "Spearman correlation: SpearmanrResult(correlation=0.07878787878787878, pvalue=0.8287173946974606)\n",
      "Features importance: [28.37580894 30.86795403 40.75623703]\n",
      "Spearman correlation: SpearmanrResult(correlation=0.23708316203522517, pvalue=0.5095614092618308)\n",
      "Features importance: [29.60498303 30.67942434 39.71559263]\n",
      "Spearman correlation: SpearmanrResult(correlation=-0.3939393939393939, pvalue=0.25999776683488757)\n",
      "Features importance: [26.4642791  37.26365416 36.27206674]\n",
      "Spearman correlation: SpearmanrResult(correlation=-0.2121212121212121, pvalue=0.5563057751029299)\n",
      "Features importance: [32.00616948 30.08562636 37.90820416]\n",
      "Spearman correlation: SpearmanrResult(correlation=0.18787878787878787, pvalue=0.603217610029209)\n",
      "Features importance: [27.35149636 32.77758924 39.87091439]\n",
      "Spearman correlation: SpearmanrResult(correlation=0.0303030303030303, pvalue=0.9337729580941466)\n",
      "Mean score is: 0.19085910650345092\n"
     ]
    }
   ],
   "source": [
    "run_cv_cb(X, np.array([np.abs(elem) for elem in dataset0['delta_later']]))"
   ]
  },
  {
   "cell_type": "markdown",
   "metadata": {},
   "source": [
    "## Добавим cosine"
   ]
  },
  {
   "cell_type": "code",
   "execution_count": 79,
   "metadata": {},
   "outputs": [
    {
     "name": "stdout",
     "output_type": "stream",
     "text": [
      "Features importance: [25.60114514 17.79274496 24.35921311 32.24689679]\n",
      "Spearman correlation: SpearmanrResult(correlation=-0.39090909090909093, pvalue=0.23454006709519432)\n",
      "Features importance: [24.95096104 15.01998189 24.65113779 35.37791927]\n",
      "Spearman correlation: SpearmanrResult(correlation=-0.19452977397762067, pvalue=0.5902067758594245)\n",
      "Features importance: [18.07772474 20.67008473 28.94158935 32.31060119]\n",
      "Spearman correlation: SpearmanrResult(correlation=0.3696969696969697, pvalue=0.2930500752928223)\n",
      "Features importance: [17.30996339 27.59452502 25.74146845 29.35404314]\n",
      "Spearman correlation: SpearmanrResult(correlation=0.6, pvalue=0.06668799999999996)\n",
      "Features importance: [21.8409625  27.07478616 20.26855983 30.81569151]\n",
      "Spearman correlation: SpearmanrResult(correlation=0.11515151515151514, pvalue=0.7514196523258483)\n",
      "Features importance: [20.6600691  23.10549687 22.64466091 33.58977312]\n",
      "Spearman correlation: SpearmanrResult(correlation=0.22424242424242422, pvalue=0.5334005612725947)\n",
      "Features importance: [21.73672581 24.45621754 23.72676406 30.08029258]\n",
      "Spearman correlation: SpearmanrResult(correlation=0.7818181818181817, pvalue=0.007547007781067878)\n",
      "Mean score is: 0.3823354222565432\n"
     ]
    }
   ],
   "source": [
    "for i in range(dataset0.shape[0]):\n",
    "    X[i].append(kmeans_jsd[i])\n",
    "\n",
    "run_cv_cb(X, dataset0['COMPARE'])"
   ]
  },
  {
   "cell_type": "code",
   "execution_count": 80,
   "metadata": {},
   "outputs": [
    {
     "name": "stdout",
     "output_type": "stream",
     "text": [
      "Features importance: [13.64741411 17.72618252 24.31692964 44.30947372]\n",
      "Spearman correlation: SpearmanrResult(correlation=0.173121178079718, pvalue=0.6107177393174041)\n",
      "Features importance: [15.74206996 22.10058045 22.23599977 39.92134982]\n",
      "Spearman correlation: SpearmanrResult(correlation=0.28484848484848485, pvalue=0.42503815489214547)\n",
      "Features importance: [16.89570779 21.2521629  26.46091672 35.39121259]\n",
      "Spearman correlation: SpearmanrResult(correlation=0.735565707852878, pvalue=0.01532345637780498)\n",
      "Features importance: [16.810539   23.18903294 22.49310279 37.50732527]\n",
      "Spearman correlation: SpearmanrResult(correlation=-0.38181818181818183, pvalue=0.27625533338543595)\n",
      "Features importance: [19.67107173 21.5271754  21.56654652 37.23520634]\n",
      "Spearman correlation: SpearmanrResult(correlation=0.35757575757575755, pvalue=0.3103760917056799)\n",
      "Features importance: [21.45903204 23.32927176 24.53970436 30.67199185]\n",
      "Spearman correlation: SpearmanrResult(correlation=0.22424242424242422, pvalue=0.5334005612725947)\n",
      "Features importance: [16.87123002 19.14135132 24.1983097  39.78910895]\n",
      "Spearman correlation: SpearmanrResult(correlation=-0.006060606060606061, pvalue=0.9867429111949892)\n",
      "Mean score is: 0.3090331914968643\n"
     ]
    }
   ],
   "source": [
    "run_cv_cb(X, np.array([np.abs(elem) for elem in dataset0['delta_later']]))"
   ]
  },
  {
   "cell_type": "code",
   "execution_count": 82,
   "metadata": {},
   "outputs": [
    {
     "name": "stdout",
     "output_type": "stream",
     "text": [
      "Features importance: [48.24462627 51.75537373]\n",
      "Spearman correlation: SpearmanrResult(correlation=0.018181818181818184, pvalue=0.9576852410216187)\n",
      "Features importance: [44.23179341 55.76820659]\n",
      "Spearman correlation: SpearmanrResult(correlation=-0.21276694028802262, pvalue=0.5550759959985581)\n",
      "Features importance: [54.34514942 45.65485058]\n",
      "Spearman correlation: SpearmanrResult(correlation=0.6565379871744698, pvalue=0.039204386332556795)\n",
      "Features importance: [48.28807939 51.71192061]\n",
      "Spearman correlation: SpearmanrResult(correlation=0.5272727272727272, pvalue=0.11730806555020223)\n",
      "Features importance: [59.99034328 40.00965672]\n",
      "Spearman correlation: SpearmanrResult(correlation=0.41818181818181815, pvalue=0.22911284098281892)\n",
      "Features importance: [52.08848137 47.91151863]\n",
      "Spearman correlation: SpearmanrResult(correlation=0.10303030303030303, pvalue=0.7769984634438898)\n",
      "Features importance: [54.27789586 45.72210414]\n",
      "Spearman correlation: SpearmanrResult(correlation=0.4545454545454545, pvalue=0.186904810349332)\n",
      "Mean score is: 0.34150243552494475\n"
     ]
    }
   ],
   "source": [
    "X = [[] for _ in range(dataset0.shape[0])]\n",
    "\n",
    "for i in range(dataset0.shape[0]):\n",
    "    X[i].append(kmeans_jsd[i])\n",
    "    X[i].append(x_cosine[i])\n",
    "    \n",
    "run_cv_cb(X, dataset0['COMPARE'])"
   ]
  },
  {
   "cell_type": "code",
   "execution_count": 84,
   "metadata": {},
   "outputs": [
    {
     "name": "stdout",
     "output_type": "stream",
     "text": [
      "Spearman correlation: SpearmanrResult(correlation=-0.10909090909090911, pvalue=0.7495085962341482)\n",
      "Spearman correlation: SpearmanrResult(correlation=-0.12158110873601292, pvalue=0.7379379712336098)\n",
      "Spearman correlation: SpearmanrResult(correlation=0.4424242424242424, pvalue=0.20042268671194224)\n",
      "Spearman correlation: SpearmanrResult(correlation=0.8060606060606059, pvalue=0.004862061101964606)\n",
      "Spearman correlation: SpearmanrResult(correlation=0.5151515151515151, pvalue=0.12755286970323426)\n",
      "Spearman correlation: SpearmanrResult(correlation=0.28484848484848485, pvalue=0.42503815489214547)\n",
      "Spearman correlation: SpearmanrResult(correlation=0.6121212121212121, pvalue=0.05997214247725524)\n",
      "Mean score is: 0.41303972549042606\n"
     ]
    }
   ],
   "source": [
    "run_cv_lr(X, dataset0['COMPARE'])"
   ]
  },
  {
   "cell_type": "markdown",
   "metadata": {},
   "source": [
    "## LinearRegressor cross validation"
   ]
  },
  {
   "cell_type": "code",
   "execution_count": 83,
   "metadata": {},
   "outputs": [],
   "source": [
    "def run_cv_lr(X, y):\n",
    "    kf = KFold(n_splits=7)\n",
    "    test_scores = []\n",
    "\n",
    "    for train_idx, test_idx in kf.split(X):\n",
    "        x_train, x_test = np.array(X)[train_idx], np.array(X)[test_idx]\n",
    "        y_train, y_test = y[train_idx], y[test_idx]\n",
    "\n",
    "        clf = LinearRegression()\n",
    "        clf.fit(x_train, y_train)\n",
    "        pred = clf.predict(x_test)\n",
    "        test_scores.append(spearmanr(pred, y_test))\n",
    "        print('Spearman correlation:', test_scores[-1])\n",
    "\n",
    "    print('Mean score is:', np.mean([np.abs(score[0]) for score in test_scores]))"
   ]
  },
  {
   "cell_type": "code",
   "execution_count": null,
   "metadata": {},
   "outputs": [],
   "source": []
  }
 ],
 "metadata": {
  "kernelspec": {
   "display_name": "Python 3",
   "language": "python",
   "name": "python3"
  },
  "language_info": {
   "codemirror_mode": {
    "name": "ipython",
    "version": 3
   },
   "file_extension": ".py",
   "mimetype": "text/x-python",
   "name": "python",
   "nbconvert_exporter": "python",
   "pygments_lexer": "ipython3",
   "version": "3.7.3"
  }
 },
 "nbformat": 4,
 "nbformat_minor": 4
}
