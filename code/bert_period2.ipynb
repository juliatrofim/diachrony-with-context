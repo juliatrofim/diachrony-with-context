{
 "cells": [
  {
   "cell_type": "code",
   "execution_count": 19,
   "metadata": {},
   "outputs": [],
   "source": [
    "import numpy as np\n",
    "import pandas as pd"
   ]
  },
  {
   "cell_type": "code",
   "execution_count": 20,
   "metadata": {},
   "outputs": [],
   "source": [
    "presov = np.load('bert/presov.npz')\n",
    "sov = np.load('bert/sov.npz')\n",
    "postsov = np.load('bert/postsov.npz')"
   ]
  },
  {
   "cell_type": "code",
   "execution_count": 3,
   "metadata": {},
   "outputs": [
    {
     "name": "stdout",
     "output_type": "stream",
     "text": [
      "dataset_0.csv                  dataset_1.csv\r\n",
      "dataset_0_annotation.tsv       dataset_1_annotation.tsv\r\n",
      "dataset_0_testset.tsv          dataset_1_testset.tsv\r\n",
      "dataset_0_testset_filtered.tsv dataset_1_testset_filtered.tsv\r\n"
     ]
    }
   ],
   "source": [
    "! ls context-diachrony/datasets"
   ]
  },
  {
   "cell_type": "code",
   "execution_count": 21,
   "metadata": {},
   "outputs": [],
   "source": [
    "dataset0 = pd.read_csv('context-diachrony/datasets/dataset_1_testset_filtered.tsv', sep='\\t')"
   ]
  },
  {
   "cell_type": "code",
   "execution_count": 22,
   "metadata": {},
   "outputs": [
    {
     "data": {
      "text/html": [
       "<div>\n",
       "<style scoped>\n",
       "    .dataframe tbody tr th:only-of-type {\n",
       "        vertical-align: middle;\n",
       "    }\n",
       "\n",
       "    .dataframe tbody tr th {\n",
       "        vertical-align: top;\n",
       "    }\n",
       "\n",
       "    .dataframe thead th {\n",
       "        text-align: right;\n",
       "    }\n",
       "</style>\n",
       "<table border=\"1\" class=\"dataframe\">\n",
       "  <thead>\n",
       "    <tr style=\"text-align: right;\">\n",
       "      <th></th>\n",
       "      <th>word</th>\n",
       "      <th>COMPARE</th>\n",
       "      <th>EARLIER</th>\n",
       "      <th>LATER</th>\n",
       "      <th>delta_later</th>\n",
       "      <th>frequency_sov/postsov</th>\n",
       "    </tr>\n",
       "  </thead>\n",
       "  <tbody>\n",
       "    <tr>\n",
       "      <th>0</th>\n",
       "      <td>ателье</td>\n",
       "      <td>3.29</td>\n",
       "      <td>3.30</td>\n",
       "      <td>3.19</td>\n",
       "      <td>-0.11</td>\n",
       "      <td>288/326</td>\n",
       "    </tr>\n",
       "    <tr>\n",
       "      <th>1</th>\n",
       "      <td>блочный</td>\n",
       "      <td>2.15</td>\n",
       "      <td>2.57</td>\n",
       "      <td>2.63</td>\n",
       "      <td>0.06</td>\n",
       "      <td>67/157</td>\n",
       "    </tr>\n",
       "    <tr>\n",
       "      <th>2</th>\n",
       "      <td>боевик</td>\n",
       "      <td>2.25</td>\n",
       "      <td>3.28</td>\n",
       "      <td>2.82</td>\n",
       "      <td>-0.46</td>\n",
       "      <td>231/2918</td>\n",
       "    </tr>\n",
       "    <tr>\n",
       "      <th>3</th>\n",
       "      <td>ботаник</td>\n",
       "      <td>2.52</td>\n",
       "      <td>3.20</td>\n",
       "      <td>2.16</td>\n",
       "      <td>-1.04</td>\n",
       "      <td>410/219</td>\n",
       "    </tr>\n",
       "    <tr>\n",
       "      <th>4</th>\n",
       "      <td>взлом</td>\n",
       "      <td>3.26</td>\n",
       "      <td>3.40</td>\n",
       "      <td>3.03</td>\n",
       "      <td>-0.37</td>\n",
       "      <td>99/99</td>\n",
       "    </tr>\n",
       "  </tbody>\n",
       "</table>\n",
       "</div>"
      ],
      "text/plain": [
       "      word  COMPARE  EARLIER  LATER  delta_later frequency_sov/postsov\n",
       "0   ателье     3.29     3.30   3.19        -0.11               288/326\n",
       "1  блочный     2.15     2.57   2.63         0.06                67/157\n",
       "2   боевик     2.25     3.28   2.82        -0.46              231/2918\n",
       "3  ботаник     2.52     3.20   2.16        -1.04               410/219\n",
       "4    взлом     3.26     3.40   3.03        -0.37                 99/99"
      ]
     },
     "execution_count": 22,
     "metadata": {},
     "output_type": "execute_result"
    }
   ],
   "source": [
    "dataset0.head()"
   ]
  },
  {
   "cell_type": "code",
   "execution_count": 23,
   "metadata": {},
   "outputs": [],
   "source": [
    "np.random.seed(42)"
   ]
  },
  {
   "cell_type": "code",
   "execution_count": 24,
   "metadata": {},
   "outputs": [],
   "source": [
    "from sklearn.cluster import KMeans\n",
    "from sklearn.cluster import AffinityPropagation\n",
    "from sklearn.linear_model import LinearRegression\n",
    "from scipy.spatial.distance import jensenshannon as jsd\n",
    "from scipy.spatial.distance import cosine\n",
    "from scipy.stats import spearmanr\n",
    "from sklearn.model_selection import KFold\n",
    "from catboost import CatBoostRegressor\n",
    "\n",
    "K = 5"
   ]
  },
  {
   "cell_type": "markdown",
   "metadata": {},
   "source": [
    "## KMeans"
   ]
  },
  {
   "cell_type": "code",
   "execution_count": 25,
   "metadata": {},
   "outputs": [],
   "source": [
    "def calc_kmeans(word):\n",
    "    sov = np.load('bert/sov.npz')\n",
    "    postsov = np.load('bert/postsov.npz')\n",
    "    emb1 = sov.get(word)\n",
    "    emb2 = postsov.get(word)\n",
    "    if emb1.shape[0] > 10000:\n",
    "        rand_idxs = np.random.choice(emb1.shape[0], 10000, replace=False)\n",
    "        emb1 = emb1[rand_idxs]\n",
    "    if emb2.shape[0] > 10000:\n",
    "        rand_idxs = np.random.choice(emb2.shape[0], 10000, replace=False)\n",
    "        emb2 = emb2[rand_idxs]\n",
    "\n",
    "    embs = []\n",
    "    embs.extend(emb1)\n",
    "    embs.extend(emb2)\n",
    "\n",
    "    kmeans = KMeans(n_clusters=K, random_state=42).fit(embs)\n",
    "    dist1 = [np.count_nonzero(kmeans.labels_[:len(emb1)] == i) / len(emb1) for i in range(K)]\n",
    "    dist2 = [np.count_nonzero(kmeans.labels_[len(emb1):] == i) / len(emb2) for i in range(K)]\n",
    "\n",
    "    return {word : [dist1, dist2]}\n"
   ]
  },
  {
   "cell_type": "code",
   "execution_count": 26,
   "metadata": {},
   "outputs": [
    {
     "name": "stdout",
     "output_type": "stream",
     "text": [
      "49.96233582496643\n"
     ]
    }
   ],
   "source": [
    "from joblib import Parallel, delayed\n",
    "import time\n",
    "\n",
    "start = time.time()\n",
    "results = Parallel(n_jobs=-1)(\n",
    "    delayed(calc_kmeans)(word) for word in list(dataset0['word'])\n",
    ")\n",
    "print(time.time() - start)"
   ]
  },
  {
   "cell_type": "code",
   "execution_count": 27,
   "metadata": {},
   "outputs": [
    {
     "name": "stdout",
     "output_type": "stream",
     "text": [
      "SpearmanrResult(correlation=-0.48468256531816667, pvalue=0.00031306239747392104)\n",
      "SpearmanrResult(correlation=0.1309041605363084, pvalue=0.3598687404381328)\n"
     ]
    }
   ],
   "source": [
    "kmeans_jsd = []\n",
    "for item in results:\n",
    "    for k, v in item.items():\n",
    "        kmeans_jsd.append(jsd(v[0], v[1]))\n",
    "        \n",
    "print(spearmanr(kmeans_jsd, dataset0['COMPARE']))\n",
    "print(spearmanr(kmeans_jsd, [np.abs(elem) for elem in dataset0['delta_later']]))"
   ]
  },
  {
   "cell_type": "code",
   "execution_count": 28,
   "metadata": {},
   "outputs": [
    {
     "name": "stdout",
     "output_type": "stream",
     "text": [
      "SpearmanrResult(correlation=-0.4181637182434112, pvalue=0.0022618490123113427)\n",
      "SpearmanrResult(correlation=0.12329976946780916, pvalue=0.38868594453138416)\n"
     ]
    }
   ],
   "source": [
    "kmeans_max = []\n",
    "for item in results:\n",
    "    for k, v in item.items():\n",
    "        kmeans_max.append(np.max(np.square(v[0]) - np.square(v[1])))\n",
    "        \n",
    "print(spearmanr(kmeans_max, dataset0['COMPARE']))\n",
    "print(spearmanr(kmeans_max, [np.abs(elem) for elem in dataset0['delta_later']]))"
   ]
  },
  {
   "cell_type": "markdown",
   "metadata": {},
   "source": [
    "## AffinityPropagation "
   ]
  },
  {
   "cell_type": "code",
   "execution_count": 33,
   "metadata": {},
   "outputs": [],
   "source": [
    "affinity_jsd = {}\n",
    "with open('aff_jsd_elmo2.txt') as f: # sort by word in file\n",
    "    for line in f.readlines():\n",
    "        affinity_jsd[line.split('=')[0]] = line[:-1].split('=')[1]\n",
    "\n",
    "affinity_jsd_list = []\n",
    "for idx, row in dataset0.iterrows():\n",
    "    affinity_jsd_list.append(affinity_jsd[row['word']])"
   ]
  },
  {
   "cell_type": "code",
   "execution_count": 34,
   "metadata": {},
   "outputs": [
    {
     "name": "stdout",
     "output_type": "stream",
     "text": [
      "SpearmanrResult(correlation=-0.36272291714212324, pvalue=0.008899484595937337)\n",
      "SpearmanrResult(correlation=0.20461799791510651, pvalue=0.14977464031870152)\n"
     ]
    }
   ],
   "source": [
    "print(spearmanr(affinity_jsd_list, dataset0['COMPARE']))\n",
    "print(spearmanr(affinity_jsd_list, [np.abs(elem) for elem in dataset0['delta_later']]))"
   ]
  },
  {
   "cell_type": "markdown",
   "metadata": {},
   "source": [
    "## Cosine"
   ]
  },
  {
   "cell_type": "code",
   "execution_count": 31,
   "metadata": {},
   "outputs": [],
   "source": [
    "def calc_cosine(words, period1, period2):\n",
    "    X = []\n",
    "    for idx, word in enumerate(words): \n",
    "        emb1 = period1.get(word)\n",
    "        emb2 = period2.get(word)\n",
    "        X.append(cosine(np.mean(emb1, axis=0), np.mean(emb2, axis=0)))\n",
    "    return X"
   ]
  },
  {
   "cell_type": "code",
   "execution_count": 32,
   "metadata": {},
   "outputs": [
    {
     "name": "stdout",
     "output_type": "stream",
     "text": [
      "SpearmanrResult(correlation=-0.5007013897157608, pvalue=0.00018259682147381674)\n",
      "SpearmanrResult(correlation=0.23283921224023868, pvalue=0.10012085755120885)\n"
     ]
    }
   ],
   "source": [
    "x_cosine = calc_cosine(dataset0['word'], sov, postsov)\n",
    "\n",
    "print(spearmanr(x_cosine, dataset0['COMPARE']))\n",
    "print(spearmanr(x_cosine, [np.abs(elem) for elem in dataset0['delta_later']]))"
   ]
  },
  {
   "cell_type": "markdown",
   "metadata": {},
   "source": [
    "## Freq1, Freq2, Freq1 / Freq2"
   ]
  },
  {
   "cell_type": "code",
   "execution_count": 37,
   "metadata": {},
   "outputs": [],
   "source": [
    "def calc_freq(words, X, period1, period2):\n",
    "    for idx, word in enumerate(words): \n",
    "        emb1 = period1.get(word)\n",
    "        emb2 = period2.get(word)\n",
    "        X[idx].extend([len(emb1), len(emb2), len(emb1) / len(emb2)])"
   ]
  },
  {
   "cell_type": "code",
   "execution_count": 55,
   "metadata": {},
   "outputs": [],
   "source": [
    "def run_cv(X, y):\n",
    "    kf = KFold(n_splits=5)\n",
    "    test_scores = []\n",
    "\n",
    "    for train_idx, test_idx in kf.split(X):\n",
    "        x_train, x_test = np.array(X)[train_idx], np.array(X)[test_idx]\n",
    "        y_train, y_test = y[train_idx], y[test_idx]\n",
    "\n",
    "        clf = LinearRegression()\n",
    "        clf.fit(x_train, y_train)\n",
    "        pred = clf.predict(x_test)\n",
    "        test_scores.append(spearmanr(pred, y_test))\n",
    "        print('Spearman correlation:', test_scores[-1])\n",
    "\n",
    "    print('Mean score is:', np.mean([np.abs(score[0]) for score in test_scores]))"
   ]
  },
  {
   "cell_type": "markdown",
   "metadata": {},
   "source": [
    "## Посчитаем корреляцию модели, обученной на частотах слов"
   ]
  },
  {
   "cell_type": "code",
   "execution_count": 76,
   "metadata": {},
   "outputs": [
    {
     "name": "stdout",
     "output_type": "stream",
     "text": [
      "Spearman correlation: SpearmanrResult(correlation=0.20909090909090913, pvalue=0.5372209352113229)\n",
      "Spearman correlation: SpearmanrResult(correlation=0.09090909090909088, pvalue=0.8027717312071619)\n",
      "Spearman correlation: SpearmanrResult(correlation=-0.24848484848484845, pvalue=0.48877630451924314)\n",
      "Spearman correlation: SpearmanrResult(correlation=-0.7538028741632801, pvalue=0.011794786289983676)\n",
      "Spearman correlation: SpearmanrResult(correlation=-0.6363636363636362, pvalue=0.04791172612997547)\n",
      "Mean score is: 0.387730271802353\n"
     ]
    }
   ],
   "source": [
    "X = [[] for _ in range(dataset0.shape[0])]\n",
    "\n",
    "calc_freq(dataset0['word'], X, sov, postsov)\n",
    "\n",
    "run_cv(X, dataset0['COMPARE'])"
   ]
  },
  {
   "cell_type": "code",
   "execution_count": 77,
   "metadata": {},
   "outputs": [
    {
     "name": "stdout",
     "output_type": "stream",
     "text": [
      "Spearman correlation: SpearmanrResult(correlation=0.07272727272727274, pvalue=0.831716405381337)\n",
      "Spearman correlation: SpearmanrResult(correlation=-0.3719581343246535, pvalue=0.28987658207732536)\n",
      "Spearman correlation: SpearmanrResult(correlation=0.01818181818181818, pvalue=0.9602404181286243)\n",
      "Spearman correlation: SpearmanrResult(correlation=-0.5030303030303029, pvalue=0.13833369839449197)\n",
      "Spearman correlation: SpearmanrResult(correlation=0.17575757575757575, pvalue=0.6271883447764844)\n",
      "Mean score is: 0.22833102080432463\n"
     ]
    }
   ],
   "source": [
    "run_cv(X, np.array([np.abs(elem) for elem in dataset0['delta_later']]))"
   ]
  },
  {
   "cell_type": "markdown",
   "metadata": {},
   "source": [
    "## Добавим cosine"
   ]
  },
  {
   "cell_type": "code",
   "execution_count": 78,
   "metadata": {},
   "outputs": [
    {
     "name": "stdout",
     "output_type": "stream",
     "text": [
      "Spearman correlation: SpearmanrResult(correlation=0.16363636363636366, pvalue=0.6306852146425357)\n",
      "Spearman correlation: SpearmanrResult(correlation=0.23636363636363633, pvalue=0.5108853175152002)\n",
      "Spearman correlation: SpearmanrResult(correlation=-0.06666666666666665, pvalue=0.8548130882487426)\n",
      "Spearman correlation: SpearmanrResult(correlation=0.21276694028802262, pvalue=0.5550759959985581)\n",
      "Spearman correlation: SpearmanrResult(correlation=-0.5393939393939393, pvalue=0.1075931877824148)\n",
      "Mean score is: 0.24376550926972573\n"
     ]
    }
   ],
   "source": [
    "for i in range(dataset0.shape[0]):\n",
    "    X[i].append(x_cosine[i])\n",
    "\n",
    "run_cv(X, dataset0['COMPARE'])"
   ]
  },
  {
   "cell_type": "code",
   "execution_count": 79,
   "metadata": {},
   "outputs": [
    {
     "name": "stdout",
     "output_type": "stream",
     "text": [
      "Spearman correlation: SpearmanrResult(correlation=0.11818181818181818, pvalue=0.72928477951978)\n",
      "Spearman correlation: SpearmanrResult(correlation=-0.5183023183212385, pvalue=0.12483849367734694)\n",
      "Spearman correlation: SpearmanrResult(correlation=0.05454545454545454, pvalue=0.8810361811618526)\n",
      "Spearman correlation: SpearmanrResult(correlation=-0.32121212121212117, pvalue=0.3654683104386702)\n",
      "Spearman correlation: SpearmanrResult(correlation=0.10303030303030303, pvalue=0.7769984634438898)\n",
      "Mean score is: 0.22305440305818708\n"
     ]
    }
   ],
   "source": [
    "run_cv(X, np.array([np.abs(elem) for elem in dataset0['delta_later']]))"
   ]
  },
  {
   "cell_type": "markdown",
   "metadata": {},
   "source": [
    "## KMeans & JSD + Cosine"
   ]
  },
  {
   "cell_type": "code",
   "execution_count": 80,
   "metadata": {},
   "outputs": [
    {
     "name": "stdout",
     "output_type": "stream",
     "text": [
      "Spearman correlation: SpearmanrResult(correlation=0.14545454545454548, pvalue=0.6695786456420787)\n",
      "Spearman correlation: SpearmanrResult(correlation=0.406060606060606, pvalue=0.24428229408662638)\n",
      "Spearman correlation: SpearmanrResult(correlation=0.41818181818181815, pvalue=0.22911284098281892)\n",
      "Spearman correlation: SpearmanrResult(correlation=0.7234075969792769, pvalue=0.018047748354494193)\n",
      "Spearman correlation: SpearmanrResult(correlation=0.4424242424242424, pvalue=0.20042268671194224)\n",
      "Mean score is: 0.42710576182009785\n"
     ]
    }
   ],
   "source": [
    "X = [[] for _ in range(dataset0.shape[0])]\n",
    "\n",
    "for i in range(dataset0.shape[0]):\n",
    "    X[i].append(kmeans_jsd[i])\n",
    "    X[i].append(x_cosine[i])\n",
    "    \n",
    "run_cv(X, dataset0['COMPARE'])"
   ]
  },
  {
   "cell_type": "code",
   "execution_count": 81,
   "metadata": {},
   "outputs": [
    {
     "name": "stdout",
     "output_type": "stream",
     "text": [
      "Spearman correlation: SpearmanrResult(correlation=0.09090909090909091, pvalue=0.7903727377532903)\n",
      "Spearman correlation: SpearmanrResult(correlation=-0.597572084652722, pvalue=0.06808978684116407)\n",
      "Spearman correlation: SpearmanrResult(correlation=-0.006060606060606061, pvalue=0.9867429111949892)\n",
      "Spearman correlation: SpearmanrResult(correlation=-0.33333333333333326, pvalue=0.34659350708733405)\n",
      "Spearman correlation: SpearmanrResult(correlation=-0.29696969696969694, pvalue=0.4047016712701569)\n",
      "Mean score is: 0.2649689623850898\n"
     ]
    }
   ],
   "source": [
    "run_cv(X, np.array([np.abs(elem) for elem in dataset0['delta_later']]))"
   ]
  },
  {
   "cell_type": "markdown",
   "metadata": {},
   "source": [
    "## KMeans & JSD + Cosine + Freq"
   ]
  },
  {
   "cell_type": "code",
   "execution_count": 84,
   "metadata": {},
   "outputs": [
    {
     "name": "stdout",
     "output_type": "stream",
     "text": [
      "Spearman correlation: SpearmanrResult(correlation=0.18181818181818182, pvalue=0.5926152128455)\n",
      "Spearman correlation: SpearmanrResult(correlation=0.1515151515151515, pvalue=0.6760651759978538)\n",
      "Spearman correlation: SpearmanrResult(correlation=0.16363636363636364, pvalue=0.6514773427962428)\n",
      "Spearman correlation: SpearmanrResult(correlation=0.498482545817653, pvalue=0.14251791767625296)\n",
      "Spearman correlation: SpearmanrResult(correlation=-0.5393939393939393, pvalue=0.1075931877824148)\n",
      "Mean score is: 0.30696923643625784\n"
     ]
    }
   ],
   "source": [
    "X = [[] for _ in range(dataset0.shape[0])]\n",
    "\n",
    "calc_freq(dataset0['word'], X, sov, postsov)\n",
    "\n",
    "for i in range(dataset0.shape[0]):\n",
    "    X[i].append(kmeans_jsd[i])\n",
    "    X[i].append(x_cosine[i])\n",
    "\n",
    "run_cv(X, dataset0['COMPARE'])"
   ]
  },
  {
   "cell_type": "code",
   "execution_count": 85,
   "metadata": {},
   "outputs": [
    {
     "name": "stdout",
     "output_type": "stream",
     "text": [
      "Spearman correlation: SpearmanrResult(correlation=0.08181818181818183, pvalue=0.8109903943000458)\n",
      "Spearman correlation: SpearmanrResult(correlation=-0.6280604563186774, pvalue=0.05184120984456854)\n",
      "Spearman correlation: SpearmanrResult(correlation=0.06666666666666665, pvalue=0.8548130882487426)\n",
      "Spearman correlation: SpearmanrResult(correlation=-0.7575757575757575, pvalue=0.011143446799694208)\n",
      "Spearman correlation: SpearmanrResult(correlation=-0.10303030303030303, pvalue=0.7769984634438898)\n",
      "Mean score is: 0.3274302730819173\n"
     ]
    }
   ],
   "source": [
    "run_cv(X, np.array([np.abs(elem) for elem in dataset0['delta_later']]))"
   ]
  },
  {
   "cell_type": "code",
   "execution_count": null,
   "metadata": {},
   "outputs": [],
   "source": []
  }
 ],
 "metadata": {
  "kernelspec": {
   "display_name": "Python 3",
   "language": "python",
   "name": "python3"
  },
  "language_info": {
   "codemirror_mode": {
    "name": "ipython",
    "version": 3
   },
   "file_extension": ".py",
   "mimetype": "text/x-python",
   "name": "python",
   "nbconvert_exporter": "python",
   "pygments_lexer": "ipython3",
   "version": "3.7.3"
  }
 },
 "nbformat": 4,
 "nbformat_minor": 4
}
